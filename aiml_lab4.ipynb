{
  "nbformat": 4,
  "nbformat_minor": 0,
  "metadata": {
    "colab": {
      "provenance": [],
      "authorship_tag": "ABX9TyM6qNx5XikiOqQvqIlcEQWA",
      "include_colab_link": true
    },
    "kernelspec": {
      "name": "python3",
      "display_name": "Python 3"
    },
    "language_info": {
      "name": "python"
    }
  },
  "cells": [
    {
      "cell_type": "markdown",
      "metadata": {
        "id": "view-in-github",
        "colab_type": "text"
      },
      "source": [
        "<a href=\"https://colab.research.google.com/github/AditiVerma-code/aiml-lab4/blob/main/aiml_lab4.ipynb\" target=\"_parent\"><img src=\"https://colab.research.google.com/assets/colab-badge.svg\" alt=\"Open In Colab\"/></a>"
      ]
    },
    {
      "cell_type": "code",
      "execution_count": null,
      "metadata": {
        "colab": {
          "base_uri": "https://localhost:8080/"
        },
        "id": "Wi6LWyxKd0fe",
        "outputId": "82160226-0e96-430f-e5f0-77e2f8c4bcf9"
      },
      "outputs": [
        {
          "output_type": "stream",
          "name": "stdout",
          "text": [
            "Requirement already satisfied: pandas in /usr/local/lib/python3.10/dist-packages (2.1.4)\n",
            "Requirement already satisfied: numpy in /usr/local/lib/python3.10/dist-packages (1.26.4)\n",
            "Requirement already satisfied: python-dateutil>=2.8.2 in /usr/local/lib/python3.10/dist-packages (from pandas) (2.8.2)\n",
            "Requirement already satisfied: pytz>=2020.1 in /usr/local/lib/python3.10/dist-packages (from pandas) (2024.2)\n",
            "Requirement already satisfied: tzdata>=2022.1 in /usr/local/lib/python3.10/dist-packages (from pandas) (2024.1)\n",
            "Requirement already satisfied: six>=1.5 in /usr/local/lib/python3.10/dist-packages (from python-dateutil>=2.8.2->pandas) (1.16.0)\n"
          ]
        }
      ],
      "source": [
        "pip install pandas numpy\n"
      ]
    },
    {
      "cell_type": "code",
      "source": [
        "import pandas as pd"
      ],
      "metadata": {
        "id": "ZcZPhOuFef71"
      },
      "execution_count": null,
      "outputs": []
    },
    {
      "cell_type": "code",
      "source": [
        "#Loading the dataset\n",
        "df = pd.read_csv('aiml-lab4.csv').head()"
      ],
      "metadata": {
        "id": "agn4bWIbvy8v"
      },
      "execution_count": null,
      "outputs": []
    },
    {
      "cell_type": "code",
      "source": [
        "#Number of rows and columns\n",
        "print(\"Number of rows and columns:\", df.shape)\n"
      ],
      "metadata": {
        "colab": {
          "base_uri": "https://localhost:8080/"
        },
        "id": "xfX1NUhHx_Vb",
        "outputId": "f50c8b8d-79a0-40f9-c81d-6cc6d3e1bc1c"
      },
      "execution_count": null,
      "outputs": [
        {
          "output_type": "stream",
          "name": "stdout",
          "text": [
            "Number of rows and columns: (5, 6)\n"
          ]
        }
      ]
    },
    {
      "cell_type": "code",
      "source": [
        "#First five rows\n",
        "print(\"First five rows:\")\n",
        "print(df.head())"
      ],
      "metadata": {
        "colab": {
          "base_uri": "https://localhost:8080/"
        },
        "id": "_fgbGD7CyXP8",
        "outputId": "6e654f0d-b870-4254-de51-1430a6dc9f25"
      },
      "execution_count": null,
      "outputs": [
        {
          "output_type": "stream",
          "name": "stdout",
          "text": [
            "First five rows:\n",
            "   Book ID                  Title               Author       Genre  Price  \\\n",
            "0        1  To Kill a Mockingbird           Harper Lee     Fiction  10.99   \n",
            "1        2                   1984        George Orwell   Dystopian   9.99   \n",
            "2        3              Moby Dick      Herman Melville     Classic  11.50   \n",
            "3        4       The Great Gatsby  F. Scott Fitzgerald     Fiction  12.00   \n",
            "4        5          War and Peace          Leo Tolstoy  Historical  15.00   \n",
            "\n",
            "   Stock  \n",
            "0      5  \n",
            "1      8  \n",
            "2      2  \n",
            "3      0  \n",
            "4      3  \n"
          ]
        }
      ]
    },
    {
      "cell_type": "code",
      "source": [
        "#Size of the dataset\n",
        "print(\"Size of the dataset (in bytes):\", df.memory_usage().sum())"
      ],
      "metadata": {
        "colab": {
          "base_uri": "https://localhost:8080/"
        },
        "id": "OQM6Gjcfyl1f",
        "outputId": "c56495f6-62e7-49ab-cb9f-7cf29ee251dc"
      },
      "execution_count": null,
      "outputs": [
        {
          "output_type": "stream",
          "name": "stdout",
          "text": [
            "Size of the dataset (in bytes): 368\n"
          ]
        }
      ]
    },
    {
      "cell_type": "code",
      "source": [
        "#Number of missing values\n",
        "print(\"Number of missing values in each column:\")\n",
        "print(df.isnull().sum())\n"
      ],
      "metadata": {
        "colab": {
          "base_uri": "https://localhost:8080/"
        },
        "id": "bw4yldJUyzz3",
        "outputId": "835bb1e6-49e0-4ea8-c923-4eb4493967f4"
      },
      "execution_count": null,
      "outputs": [
        {
          "output_type": "stream",
          "name": "stdout",
          "text": [
            "Number of missing values in each column:\n",
            "Book ID    0\n",
            "Title      0\n",
            "Author     0\n",
            "Genre      0\n",
            "Price      0\n",
            "Stock      0\n",
            "dtype: int64\n"
          ]
        }
      ]
    },
    {
      "cell_type": "code",
      "source": [
        "#Summary statistics for numerical columns\n",
        "print(\"Summary statistics:\")\n",
        "print(df.describe())\n"
      ],
      "metadata": {
        "colab": {
          "base_uri": "https://localhost:8080/"
        },
        "id": "TPRRSfsQy7LV",
        "outputId": "94594a53-12f8-4b53-a7d4-8216664b5c02"
      },
      "execution_count": null,
      "outputs": [
        {
          "output_type": "stream",
          "name": "stdout",
          "text": [
            "Summary statistics:\n",
            "        Book ID      Price    Stock\n",
            "count  5.000000   5.000000  5.00000\n",
            "mean   3.000000  11.896000  3.60000\n",
            "std    1.581139   1.887864  3.04959\n",
            "min    1.000000   9.990000  0.00000\n",
            "25%    2.000000  10.990000  2.00000\n",
            "50%    3.000000  11.500000  3.00000\n",
            "75%    4.000000  12.000000  5.00000\n",
            "max    5.000000  15.000000  8.00000\n"
          ]
        }
      ]
    },
    {
      "cell_type": "code",
      "source": [
        "#defining numerical columns\n",
        "numerical_cols = df.select_dtypes(include=['number'])\n",
        "#Sum\n",
        "print(\"Sum of numerical columns:\")\n",
        "print(numerical_cols.sum())"
      ],
      "metadata": {
        "colab": {
          "base_uri": "https://localhost:8080/"
        },
        "id": "LodB5IQozOtH",
        "outputId": "eb7207a4-6505-423f-881f-944adf015317"
      },
      "execution_count": null,
      "outputs": [
        {
          "output_type": "stream",
          "name": "stdout",
          "text": [
            "Sum of numerical columns:\n",
            "Book ID    15.00\n",
            "Price      59.48\n",
            "Stock      18.00\n",
            "dtype: float64\n"
          ]
        }
      ]
    },
    {
      "cell_type": "code",
      "source": [
        "#average of numerical columns\n",
        "print(\"Average of numerical columns:\")\n",
        "print(numerical_cols.mean())\n"
      ],
      "metadata": {
        "colab": {
          "base_uri": "https://localhost:8080/"
        },
        "id": "No4qSfbNzsxQ",
        "outputId": "26ef749b-1da7-4552-ad28-a699542e62d6"
      },
      "execution_count": null,
      "outputs": [
        {
          "output_type": "stream",
          "name": "stdout",
          "text": [
            "Average of numerical columns:\n",
            "Book ID     3.000\n",
            "Price      11.896\n",
            "Stock       3.600\n",
            "dtype: float64\n"
          ]
        }
      ]
    },
    {
      "cell_type": "code",
      "source": [
        "print(\"Minimum values of numerical columns:\")\n",
        "print(numerical_cols.min())"
      ],
      "metadata": {
        "colab": {
          "base_uri": "https://localhost:8080/"
        },
        "id": "8pZRZ82zz4uu",
        "outputId": "dfa5df69-3be0-4390-d1ae-f6b2cc478877"
      },
      "execution_count": null,
      "outputs": [
        {
          "output_type": "stream",
          "name": "stdout",
          "text": [
            "Minimum values of numerical columns:\n",
            "Book ID    1.00\n",
            "Price      9.99\n",
            "Stock      0.00\n",
            "dtype: float64\n"
          ]
        }
      ]
    },
    {
      "cell_type": "code",
      "source": [
        "print(\"Maximum values of numerical columns:\")\n",
        "print(numerical_cols.max())\n"
      ],
      "metadata": {
        "id": "ToliWQaVz875",
        "outputId": "027aa51a-400c-41df-d3d3-a6f34a45e8eb",
        "colab": {
          "base_uri": "https://localhost:8080/"
        }
      },
      "execution_count": null,
      "outputs": [
        {
          "output_type": "stream",
          "name": "stdout",
          "text": [
            "Maximum values of numerical columns:\n",
            "Book ID     5.0\n",
            "Price      15.0\n",
            "Stock       8.0\n",
            "dtype: float64\n"
          ]
        }
      ]
    }
  ]
}